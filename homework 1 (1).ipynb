{
 "cells": [
  {
   "cell_type": "markdown",
   "metadata": {},
   "source": [
    "# Learn phyton 3"
   ]
  },
  {
   "cell_type": "markdown",
   "metadata": {},
   "source": [
    "## Exercise 1 \"A good first program\"\n",
    "In this part we going to learn about how to print a text with the command \"print\""
   ]
  },
  {
   "cell_type": "code",
   "execution_count": 58,
   "metadata": {},
   "outputs": [
    {
     "name": "stdout",
     "output_type": "stream",
     "text": [
      "average of second partial\n",
      "available seats\n",
      "devices in stock\n"
     ]
    }
   ],
   "source": [
    "print(\"average of second partial\")\n",
    "print(\"available seats\")\n",
    "print(\"devices in stock\")"
   ]
  },
  {
   "cell_type": "markdown",
   "metadata": {},
   "source": [
    "## Exercise 2 \"Comments and pound characters\"\n",
    "It is to write something to tell us about the code, for example instruccions or diseable part of the code."
   ]
  },
  {
   "cell_type": "code",
   "execution_count": 59,
   "metadata": {},
   "outputs": [
    {
     "name": "stdout",
     "output_type": "stream",
     "text": [
      "average of second partial\n"
     ]
    }
   ],
   "source": [
    "print(\"average of second partial\") # use it if we need know the average\n",
    "# \"print\" is just to show a message"
   ]
  },
  {
   "cell_type": "markdown",
   "metadata": {},
   "source": [
    "## Exercise 3 \"Numbers and math\"\n",
    "In this part we learn how use math symbols and do the math operations.\n"
   ]
  },
  {
   "cell_type": "code",
   "execution_count": 60,
   "metadata": {},
   "outputs": [
    {
     "name": "stdout",
     "output_type": "stream",
     "text": [
      "average of second partial: \n",
      "classroom a 24.5\n",
      "classroom b 28.5\n",
      "50 percent in the piece : \n",
      "piece 003 $ 350.0\n",
      "total 450\n",
      "classroom a is more than b:  False\n"
     ]
    }
   ],
   "source": [
    "print(\"average of second partial: \") # to print the result, write two point after of the text\n",
    "print(\"classroom a\", (24+23+25+26)/4)\n",
    "print(\"classroom b\", (27+28+29+30)/4)\n",
    "\n",
    "print(\"50 percent in the piece : \")\n",
    "print( \"piece 003 $\", (800-100)*.50 )\n",
    "print(\"total\",800-350)\n",
    "\n",
    "print(\"classroom a is more than b: \",24.5 > 28.5 )"
   ]
  },
  {
   "cell_type": "markdown",
   "metadata": {},
   "source": [
    "## Exercise 4 \"Variables and name\"\n",
    "Now we learn how to use a variable and save data in words, it will be easier to do the operations without the need to be putting values on each line of the code. "
   ]
  },
  {
   "cell_type": "code",
   "execution_count": 61,
   "metadata": {},
   "outputs": [
    {
     "name": "stdout",
     "output_type": "stream",
     "text": [
      "students in extra: 5\n",
      "students exempt: 5\n",
      "average of the students:  6.0\n"
     ]
    }
   ],
   "source": [
    "students= 30\n",
    "na=5\n",
    "sa=10\n",
    "de=10\n",
    "au=5\n",
    "\n",
    "print(\"students in extra:\",na)\n",
    "print(\"students exempt:\",au)\n",
    "print(\"average of the students: \", (sa+de+au+na)/5)"
   ]
  },
  {
   "cell_type": "markdown",
   "metadata": {},
   "source": [
    "## Exercise 5 \"More variables and printing\"\n",
    "Here we going to learn to save variables into a string using a especial secuence like {} and then type inside the characters the variable, also write the letter f at the beginning."
   ]
  },
  {
   "cell_type": "code",
   "execution_count": 62,
   "metadata": {},
   "outputs": [
    {
     "name": "stdout",
     "output_type": "stream",
     "text": [
      "the students from UT ALTAMIRA\n",
      "are learning some idioms line french, german and chinese\n",
      "learning french are 15\n",
      "learning german are 10\n",
      "learning chinese are 5\n"
     ]
    }
   ],
   "source": [
    "students='UT ALTAMIRA'\n",
    "total= 30\n",
    "learning_french=15\n",
    "learning_german= 10\n",
    "learning_chinese= 5\n",
    "\n",
    "print(f\"the students from {students}\")\n",
    "print(f\"are learning some idioms line french, german and chinese\")\n",
    "print(f\"learning french are {learning_french}\")\n",
    "print(f\"learning german are {learning_german}\")\n",
    "print(f\"learning chinese are {learning_chinese}\")"
   ]
  },
  {
   "cell_type": "code",
   "execution_count": null,
   "metadata": {},
   "outputs": [],
   "source": []
  }
 ],
 "metadata": {
  "kernelspec": {
   "display_name": "Python 3",
   "language": "python",
   "name": "python3"
  },
  "language_info": {
   "codemirror_mode": {
    "name": "ipython",
    "version": 3
   },
   "file_extension": ".py",
   "mimetype": "text/x-python",
   "name": "python",
   "nbconvert_exporter": "python",
   "pygments_lexer": "ipython3",
   "version": "3.7.4"
  }
 },
 "nbformat": 4,
 "nbformat_minor": 2
}
