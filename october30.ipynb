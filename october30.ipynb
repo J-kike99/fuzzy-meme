{
 "cells": [
  {
   "cell_type": "markdown",
   "metadata": {},
   "source": [
    "# SAVE A VARIABLE\n",
    "In this class  the teacher teanching us how to writte a varible in the code in different ways."
   ]
  },
  {
   "cell_type": "code",
   "execution_count": null,
   "metadata": {},
   "outputs": [
    {
     "name": "stdout",
     "output_type": "stream",
     "text": [
      "What is your name? kike\n",
      "Hi,kike\n"
     ]
    }
   ],
   "source": [
    "print(\"What is your name? \",end = '')\n",
    "name=input()\n",
    "print(f\"Hi,{name}\")\n",
    "age=int(input(\"How old are you? \"))\n",
    "print(f\"you are {age}? Really?\")"
   ]
  },
  {
   "cell_type": "markdown",
   "metadata": {},
   "source": [
    "# SAMPLE MEAN\n",
    "This progrma is made for calulate the sample mean, we need to introduce the ages of three of my classmates then the code will do the operation of addition and division of the total samples and we get the result.\n"
   ]
  },
  {
   "cell_type": "code",
   "execution_count": 4,
   "metadata": {},
   "outputs": [
    {
     "name": "stdout",
     "output_type": "stream",
     "text": [
      "sample mean of the ages of the followingstudents\n",
      "how old are you? 2\n",
      "how old are you? 3\n",
      "how old are you? 4\n",
      "The sample mean is:3.0\n"
     ]
    }
   ],
   "source": [
    "print(\"sample mean of the ages of the following students\")\n",
    "age1=int(input(\"how old are you? \"))\n",
    "age2=int(input(\"how old are you? \"))\n",
    "age3=int(input(\"how old are you? \"))\n",
    "print(f\"The sample mean is:{(age1+age2+age3)/3}\")"
   ]
  },
  {
   "cell_type": "code",
   "execution_count": null,
   "metadata": {},
   "outputs": [],
   "source": []
  }
 ],
 "metadata": {
  "kernelspec": {
   "display_name": "Python 3",
   "language": "python",
   "name": "python3"
  },
  "language_info": {
   "codemirror_mode": {
    "name": "ipython",
    "version": 3
   },
   "file_extension": ".py",
   "mimetype": "text/x-python",
   "name": "python",
   "nbconvert_exporter": "python",
   "pygments_lexer": "ipython3",
   "version": "3.7.4"
  }
 },
 "nbformat": 4,
 "nbformat_minor": 2
}
