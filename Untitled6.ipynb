{
 "cells": [
  {
   "cell_type": "markdown",
   "metadata": {},
   "source": [
    "## Practice\n",
    "In this code we will insert different names and ask it to give us the position of the name, if we ask for a different position to the number of names captured it will give us an error message."
   ]
  },
  {
   "cell_type": "code",
   "execution_count": 53,
   "metadata": {},
   "outputs": [
    {
     "name": "stdout",
     "output_type": "stream",
     "text": [
      "introduce the number of names: 2\n",
      "introduce the name: kike\n",
      "introduce the name: beto\n",
      "the names are: \n",
      "kike\n",
      "beto\n",
      "what position you need?: 1\n",
      "beto\n"
     ]
    }
   ],
   "source": [
    " numbernames=int(input(\"introduce the number of names: \")) # to save a variable in this case the number of names that i introduce\n",
    "names=[] # to save the given names\n",
    "for i in range(0,numbernames):# I understood that it is to begin from cero or sth to a variable in this case numbernames\n",
    "    x=str(input(\"introduce the name: \"))\n",
    "    names.append(x) # here it is to save the variable given in the before line\n",
    "print(\"the names are: \") # is for show the variables saved, this and the next two lines can be delete because are just to show the names written\n",
    "for name in names: # 2nd line\n",
    "    print(name)# 2nd line\n",
    "position=int(input(\"what position you need?: \")) # to save the number of the position that i want to know\n",
    "if c>numbernames or c<0: # is to compare whether the number given and greater than the written names\n",
    "             print(\"doesn't exist\")\n",
    "else:\n",
    "    print(names[position])# here show me the position that i want to know"
   ]
  },
  {
   "cell_type": "code",
   "execution_count": null,
   "metadata": {},
   "outputs": [],
   "source": []
  }
 ],
 "metadata": {
  "kernelspec": {
   "display_name": "Python 3",
   "language": "python",
   "name": "python3"
  },
  "language_info": {
   "codemirror_mode": {
    "name": "ipython",
    "version": 3
   },
   "file_extension": ".py",
   "mimetype": "text/x-python",
   "name": "python",
   "nbconvert_exporter": "python",
   "pygments_lexer": "ipython3",
   "version": "3.7.4"
  }
 },
 "nbformat": 4,
 "nbformat_minor": 2
}
